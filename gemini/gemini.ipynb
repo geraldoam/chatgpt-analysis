{
 "cells": [
  {
   "cell_type": "code",
   "execution_count": 13,
   "metadata": {},
   "outputs": [
    {
     "data": {
      "text/plain": [
       "True"
      ]
     },
     "execution_count": 13,
     "metadata": {},
     "output_type": "execute_result"
    }
   ],
   "source": [
    "import os\n",
    "from dotenv import load_dotenv\n",
    "load_dotenv()"
   ]
  },
  {
   "cell_type": "code",
   "execution_count": 19,
   "metadata": {},
   "outputs": [],
   "source": [
    "import textwrap\n",
    "from IPython.display import Markdown\n",
    "\n",
    "def to_markdown(text):\n",
    "  text = text.replace('•', '  *')\n",
    "  return Markdown(textwrap.indent(text, '> ', predicate=lambda _: True))"
   ]
  },
  {
   "cell_type": "code",
   "execution_count": 21,
   "metadata": {},
   "outputs": [
    {
     "name": "stdout",
     "output_type": "stream",
     "text": [
      "Uploaded file Gemini Logo as: https://generativelanguage.googleapis.com/v1beta/files/imx8pxk8xktd\n"
     ]
    }
   ],
   "source": [
    "import google.generativeai as genai\n",
    "\n",
    "genai.configure(api_key=os.getenv(\"GOOGLE_AI_API_KEY\"))\n",
    "\n",
    "file_path = './assets/data.csv'\n",
    "display_name = \"Gemini Logo\"\n",
    "\n",
    "file_response = genai.upload_file(path=file_path, display_name=display_name)\n",
    "\n",
    "print(f\"Uploaded file {file_response.display_name} as: {file_response.uri}\")"
   ]
  },
  {
   "cell_type": "code",
   "execution_count": 24,
   "metadata": {},
   "outputs": [
    {
     "data": {
      "text/markdown": [
       "> A base de dados que você forneceu parece ser um registro de vendas de uma loja online. Aqui está uma descrição de cada coluna e como elas se relacionam umas com as outras:\n",
       "> \n",
       "> **Coluna** | **Descrição**\n",
       "> ------- | --------\n",
       "> InvoiceNo | Um identificador exclusivo para cada fatura.\n",
       "> StockCode | Um identificador exclusivo para cada item do estoque.\n",
       "> Description | Uma descrição textual do item do estoque.\n",
       "> Quantity | A quantidade do item do estoque comprada em uma única fatura.\n",
       "> InvoiceDate | A data e hora em que a fatura foi criada.\n",
       "> UnitPrice | O preço unitário do item do estoque.\n",
       "> CustomerID | Um identificador exclusivo para cada cliente.\n",
       "> Country | O país para o qual a fatura foi enviada.\n",
       "> \n",
       "> **Relações entre as colunas:**\n",
       "> \n",
       "> * **InvoiceNo** e **CustomerID** indicam que uma única fatura pode ser emitida para um cliente específico.\n",
       "> * **InvoiceNo** e **StockCode** indicam que uma única fatura pode conter vários itens do estoque diferentes, cada um com sua própria quantidade.\n",
       "> * **StockCode** e **Description** indicam que cada item do estoque tem uma descrição única.\n",
       "> \n",
       "> **Usos da base de dados:**\n",
       "> \n",
       "> Esta base de dados pode ser usada para:\n",
       "> \n",
       "> * **Analisar as vendas:** você pode usar a base de dados para descobrir quais itens são os mais vendidos, quais clientes são os mais frequentes e quais países são os principais mercados.\n",
       "> * **Gerenciar o estoque:** você pode usar a base de dados para monitorar os níveis de estoque, rastrear os itens que estão ficando sem estoque e prever a demanda futura.\n",
       "> * **Faturar os clientes:** você pode usar a base de dados para gerar faturas e enviar aos clientes.\n",
       "> \n",
       "> **Exemplo:**\n",
       "> \n",
       "> A linha com **InvoiceNo** 0 mostra uma venda de 6 unidades de **WHITE HANGING HEART T-LIGHT HOLDER** (**StockCode** 85123A) para o cliente com **CustomerID** 17850.0. Esta venda ocorreu em **12/1/2010** às 8:26. O preço unitário do item era **2.55** e a venda foi enviada para o **Reino Unido**.\n",
       "> \n",
       "> Espero que esta explicação tenha sido útil! \n"
      ],
      "text/plain": [
       "<IPython.core.display.Markdown object>"
      ]
     },
     "execution_count": 24,
     "metadata": {},
     "output_type": "execute_result"
    }
   ],
   "source": [
    "model = genai.GenerativeModel(\"models/gemini-1.5-flash\")\n",
    "response = model.generate_content([\"O que pra você é essa base de dados?\", file_response])\n",
    "to_markdown(response.text)"
   ]
  },
  {
   "cell_type": "code",
   "execution_count": null,
   "metadata": {},
   "outputs": [],
   "source": [
    "genai.delete_file(name=file_response.name)\n",
    "print(f'Deleted file {file_response.display_name}')"
   ]
  }
 ],
 "metadata": {
  "kernelspec": {
   "display_name": "chatgpt-analysis",
   "language": "python",
   "name": "python3"
  },
  "language_info": {
   "codemirror_mode": {
    "name": "ipython",
    "version": 3
   },
   "file_extension": ".py",
   "mimetype": "text/x-python",
   "name": "python",
   "nbconvert_exporter": "python",
   "pygments_lexer": "ipython3",
   "version": "3.12.4"
  }
 },
 "nbformat": 4,
 "nbformat_minor": 2
}
